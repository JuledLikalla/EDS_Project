{
 "cells": [
  {
   "cell_type": "code",
   "execution_count": 2,
   "id": "a0f1e869",
   "metadata": {},
   "outputs": [],
   "source": [
    "#Import the necessary libraries\n",
    "import subprocess\n",
    "import os\n",
    "\n",
    "import pandas as pd\n",
    "import numpy as np\n",
    "\n",
    "import requests\n",
    "from bs4 import BeautifulSoup\n",
    "\n",
    "import json\n",
    "\n",
    "import matplotlib as mpl\n",
    "import matplotlib.pyplot as plt\n",
    "import seaborn as sns\n",
    "\n",
    "import plotly.express as px"
   ]
  },
  {
   "cell_type": "code",
   "execution_count": 3,
   "id": "1ccd018d",
   "metadata": {},
   "outputs": [],
   "source": [
    "#Add options and configure modules/libraries\n",
    "%matplotlib inline\n",
    "mpl.rcParams['figure.figsize'] = (20, 16)\n",
    "\n",
    "pd.set_option('display.max.rows',2000)\n",
    "pd.set_option('display.max.column',2000)\n",
    "\n",
    "sns.set(style='darkgrid')\n"
   ]
  },
  {
   "cell_type": "markdown",
   "id": "0956d604",
   "metadata": {},
   "source": [
    "![CRISP_DM](../reports/figures/CRISP_DM.png)"
   ]
  },
  {
   "cell_type": "markdown",
   "id": "5e5f5392",
   "metadata": {},
   "source": [
    "### A static visualization of the Covid cases always 3 countries of your choice are in each figure"
   ]
  },
  {
   "cell_type": "markdown",
   "id": "8e3df994",
   "metadata": {},
   "source": [
    "* Delivery 1 : Figure 1 The relative cases overtime of Covid infectors (absolut Covid cases/population size)\n",
    "* Delivery 2 : Figure 2 The vaccination rate (percentage of the population) over time \n",
    "* Dataset Link clone/pull: https://github.com/owid/covid-19-data.git"
   ]
  },
  {
   "cell_type": "code",
   "execution_count": 4,
   "id": "ccafa0cf",
   "metadata": {},
   "outputs": [],
   "source": [
    "url=\"https://covid.ourworldindata.org/data/owid-covid-data.csv\"\n",
    "df_world_covid_info=pd.read_csv(url,sep=',',parse_dates=[0])"
   ]
  },
  {
   "cell_type": "code",
   "execution_count": 22,
   "id": "86d9217f",
   "metadata": {},
   "outputs": [],
   "source": [
    "df_covid_info = df_world_covid_info.filter(items=['iso_code',\n",
    "                                              'location',\n",
    "                                              'date', \n",
    "                                              'total_cases', \n",
    "                                              'new_cases', \n",
    "                                              'people_fully_vaccinated', \n",
    "                                              'population'])"
   ]
  },
  {
   "cell_type": "code",
   "execution_count": 23,
   "id": "0031a782",
   "metadata": {},
   "outputs": [
    {
     "data": {
      "text/html": [
       "<div>\n",
       "<style scoped>\n",
       "    .dataframe tbody tr th:only-of-type {\n",
       "        vertical-align: middle;\n",
       "    }\n",
       "\n",
       "    .dataframe tbody tr th {\n",
       "        vertical-align: top;\n",
       "    }\n",
       "\n",
       "    .dataframe thead th {\n",
       "        text-align: right;\n",
       "    }\n",
       "</style>\n",
       "<table border=\"1\" class=\"dataframe\">\n",
       "  <thead>\n",
       "    <tr style=\"text-align: right;\">\n",
       "      <th></th>\n",
       "      <th>iso_code</th>\n",
       "      <th>location</th>\n",
       "      <th>date</th>\n",
       "      <th>total_cases</th>\n",
       "      <th>new_cases</th>\n",
       "      <th>people_fully_vaccinated</th>\n",
       "      <th>population</th>\n",
       "    </tr>\n",
       "  </thead>\n",
       "  <tbody>\n",
       "    <tr>\n",
       "      <th>0</th>\n",
       "      <td>AFG</td>\n",
       "      <td>Afghanistan</td>\n",
       "      <td>2020-02-24</td>\n",
       "      <td>5.0</td>\n",
       "      <td>5.0</td>\n",
       "      <td>NaN</td>\n",
       "      <td>40099462.0</td>\n",
       "    </tr>\n",
       "    <tr>\n",
       "      <th>1</th>\n",
       "      <td>AFG</td>\n",
       "      <td>Afghanistan</td>\n",
       "      <td>2020-02-25</td>\n",
       "      <td>5.0</td>\n",
       "      <td>0.0</td>\n",
       "      <td>NaN</td>\n",
       "      <td>40099462.0</td>\n",
       "    </tr>\n",
       "    <tr>\n",
       "      <th>2</th>\n",
       "      <td>AFG</td>\n",
       "      <td>Afghanistan</td>\n",
       "      <td>2020-02-26</td>\n",
       "      <td>5.0</td>\n",
       "      <td>0.0</td>\n",
       "      <td>NaN</td>\n",
       "      <td>40099462.0</td>\n",
       "    </tr>\n",
       "    <tr>\n",
       "      <th>3</th>\n",
       "      <td>AFG</td>\n",
       "      <td>Afghanistan</td>\n",
       "      <td>2020-02-27</td>\n",
       "      <td>5.0</td>\n",
       "      <td>0.0</td>\n",
       "      <td>NaN</td>\n",
       "      <td>40099462.0</td>\n",
       "    </tr>\n",
       "    <tr>\n",
       "      <th>4</th>\n",
       "      <td>AFG</td>\n",
       "      <td>Afghanistan</td>\n",
       "      <td>2020-02-28</td>\n",
       "      <td>5.0</td>\n",
       "      <td>0.0</td>\n",
       "      <td>NaN</td>\n",
       "      <td>40099462.0</td>\n",
       "    </tr>\n",
       "  </tbody>\n",
       "</table>\n",
       "</div>"
      ],
      "text/plain": [
       "  iso_code     location        date  total_cases  new_cases  \\\n",
       "0      AFG  Afghanistan  2020-02-24          5.0        5.0   \n",
       "1      AFG  Afghanistan  2020-02-25          5.0        0.0   \n",
       "2      AFG  Afghanistan  2020-02-26          5.0        0.0   \n",
       "3      AFG  Afghanistan  2020-02-27          5.0        0.0   \n",
       "4      AFG  Afghanistan  2020-02-28          5.0        0.0   \n",
       "\n",
       "   people_fully_vaccinated  population  \n",
       "0                      NaN  40099462.0  \n",
       "1                      NaN  40099462.0  \n",
       "2                      NaN  40099462.0  \n",
       "3                      NaN  40099462.0  \n",
       "4                      NaN  40099462.0  "
      ]
     },
     "execution_count": 23,
     "metadata": {},
     "output_type": "execute_result"
    }
   ],
   "source": [
    "df_covid_info.head()"
   ]
  },
  {
   "cell_type": "code",
   "execution_count": 6,
   "id": "6feefba3",
   "metadata": {},
   "outputs": [],
   "source": [
    "Albania_info=[]\n",
    "Germany_info=[]\n",
    "UK_info=[]\n",
    "\n",
    "df_covid_info = df_covid_info.set_index(['iso_code'])\n",
    "\n",
    "Albania_info = df_covid_info.filter(like='ALB', axis=0).dropna()\n",
    "Germany_info = df_covid_info.filter(like='DE', axis=0).dropna()\n",
    "UK_info = df_covid_info.filter(like='GBR', axis=0).dropna()\n",
    "\n",
    "df_covid_info = pd.concat([Albania_info,Germany_info,UK_info], axis=0)"
   ]
  },
  {
   "cell_type": "code",
   "execution_count": 21,
   "id": "03658ae3",
   "metadata": {},
   "outputs": [
    {
     "data": {
      "text/plain": [
       "pandas.core.frame.DataFrame"
      ]
     },
     "execution_count": 21,
     "metadata": {},
     "output_type": "execute_result"
    }
   ],
   "source": [
    "type(df_covid_info)"
   ]
  },
  {
   "cell_type": "markdown",
   "id": "21ce9c31",
   "metadata": {},
   "source": [
    "## Helper Functions"
   ]
  },
  {
   "cell_type": "code",
   "execution_count": 8,
   "id": "8782dc38",
   "metadata": {},
   "outputs": [],
   "source": [
    "def quick_plot(df_info, x_in, y_in, col_in='location', title_in='example', renderer=''):\n",
    "    \"\"\" Quick basic plot for quick static evaluation of a time series\n",
    "        \n",
    "        Parameters:\n",
    "        ----------\n",
    "        df_info : array\n",
    "        x_in    : string \n",
    "        y_in    : string\n",
    "        col     : string\n",
    "        title   : string\n",
    "    \n",
    "    \n",
    "        Returns:\n",
    "        ----------\n",
    "        nothing\n",
    "    \"\"\"\n",
    "    fig = px.line(df_info, x=x_in, y=y_in, color=col_in, title=title_in)\n",
    "    fig.show(renderer)"
   ]
  },
  {
   "cell_type": "markdown",
   "id": "f2a9dc34",
   "metadata": {},
   "source": [
    "## Relative cases overtime of Covid infectors:(absolut Covid cases/population size)"
   ]
  },
  {
   "cell_type": "code",
   "execution_count": 9,
   "id": "5428f852",
   "metadata": {},
   "outputs": [],
   "source": [
    "df_covid_info['total_relative_cases']=df_covid_info['total_cases']/df_covid_info['population']"
   ]
  },
  {
   "cell_type": "code",
   "execution_count": 10,
   "id": "fcf266a0",
   "metadata": {},
   "outputs": [
    {
     "data": {
      "text/html": [
       "<div>\n",
       "<style scoped>\n",
       "    .dataframe tbody tr th:only-of-type {\n",
       "        vertical-align: middle;\n",
       "    }\n",
       "\n",
       "    .dataframe tbody tr th {\n",
       "        vertical-align: top;\n",
       "    }\n",
       "\n",
       "    .dataframe thead th {\n",
       "        text-align: right;\n",
       "    }\n",
       "</style>\n",
       "<table border=\"1\" class=\"dataframe\">\n",
       "  <thead>\n",
       "    <tr style=\"text-align: right;\">\n",
       "      <th></th>\n",
       "      <th>location</th>\n",
       "      <th>date</th>\n",
       "      <th>total_cases</th>\n",
       "      <th>new_cases</th>\n",
       "      <th>people_fully_vaccinated</th>\n",
       "      <th>population</th>\n",
       "      <th>total_relative_cases</th>\n",
       "    </tr>\n",
       "    <tr>\n",
       "      <th>iso_code</th>\n",
       "      <th></th>\n",
       "      <th></th>\n",
       "      <th></th>\n",
       "      <th></th>\n",
       "      <th></th>\n",
       "      <th></th>\n",
       "      <th></th>\n",
       "    </tr>\n",
       "  </thead>\n",
       "  <tbody>\n",
       "    <tr>\n",
       "      <th>ALB</th>\n",
       "      <td>Albania</td>\n",
       "      <td>2021-02-02</td>\n",
       "      <td>79934.0</td>\n",
       "      <td>942.0</td>\n",
       "      <td>1.0</td>\n",
       "      <td>2854710.0</td>\n",
       "      <td>0.028001</td>\n",
       "    </tr>\n",
       "    <tr>\n",
       "      <th>ALB</th>\n",
       "      <td>Albania</td>\n",
       "      <td>2021-02-09</td>\n",
       "      <td>87528.0</td>\n",
       "      <td>1239.0</td>\n",
       "      <td>438.0</td>\n",
       "      <td>2854710.0</td>\n",
       "      <td>0.030661</td>\n",
       "    </tr>\n",
       "    <tr>\n",
       "      <th>ALB</th>\n",
       "      <td>Albania</td>\n",
       "      <td>2021-02-17</td>\n",
       "      <td>95726.0</td>\n",
       "      <td>1075.0</td>\n",
       "      <td>611.0</td>\n",
       "      <td>2854710.0</td>\n",
       "      <td>0.033533</td>\n",
       "    </tr>\n",
       "    <tr>\n",
       "      <th>ALB</th>\n",
       "      <td>Albania</td>\n",
       "      <td>2021-02-18</td>\n",
       "      <td>96838.0</td>\n",
       "      <td>1112.0</td>\n",
       "      <td>611.0</td>\n",
       "      <td>2854710.0</td>\n",
       "      <td>0.033922</td>\n",
       "    </tr>\n",
       "    <tr>\n",
       "      <th>ALB</th>\n",
       "      <td>Albania</td>\n",
       "      <td>2021-02-22</td>\n",
       "      <td>101285.0</td>\n",
       "      <td>1039.0</td>\n",
       "      <td>655.0</td>\n",
       "      <td>2854710.0</td>\n",
       "      <td>0.035480</td>\n",
       "    </tr>\n",
       "  </tbody>\n",
       "</table>\n",
       "</div>"
      ],
      "text/plain": [
       "         location        date  total_cases  new_cases  \\\n",
       "iso_code                                                \n",
       "ALB       Albania  2021-02-02      79934.0      942.0   \n",
       "ALB       Albania  2021-02-09      87528.0     1239.0   \n",
       "ALB       Albania  2021-02-17      95726.0     1075.0   \n",
       "ALB       Albania  2021-02-18      96838.0     1112.0   \n",
       "ALB       Albania  2021-02-22     101285.0     1039.0   \n",
       "\n",
       "          people_fully_vaccinated  population  total_relative_cases  \n",
       "iso_code                                                             \n",
       "ALB                           1.0   2854710.0              0.028001  \n",
       "ALB                         438.0   2854710.0              0.030661  \n",
       "ALB                         611.0   2854710.0              0.033533  \n",
       "ALB                         611.0   2854710.0              0.033922  \n",
       "ALB                         655.0   2854710.0              0.035480  "
      ]
     },
     "execution_count": 10,
     "metadata": {},
     "output_type": "execute_result"
    }
   ],
   "source": [
    "df_covid_info.head()"
   ]
  },
  {
   "cell_type": "code",
   "execution_count": 11,
   "id": "c7c07fa1",
   "metadata": {},
   "outputs": [],
   "source": [
    "quick_plot(df_covid_info,\n",
    "           'date',\n",
    "           'total_relative_cases',\n",
    "            col_in='location',\n",
    "            title_in='Covid Cases/Population Ratio',\n",
    "            renderer='browser')"
   ]
  },
  {
   "cell_type": "markdown",
   "id": "820ccf93",
   "metadata": {},
   "source": [
    "## The vaccination rate (percentage of the population) over time"
   ]
  },
  {
   "cell_type": "code",
   "execution_count": 12,
   "id": "0b1942ed",
   "metadata": {},
   "outputs": [],
   "source": [
    "df_covid_info['vaccination_rate']=df_covid_info['people_fully_vaccinated']/df_covid_info['population']"
   ]
  },
  {
   "cell_type": "code",
   "execution_count": 15,
   "id": "c552125a",
   "metadata": {
    "scrolled": true
   },
   "outputs": [
    {
     "data": {
      "text/plain": [
       "Index(['location', 'date', 'total_cases', 'new_cases',\n",
       "       'people_fully_vaccinated', 'population', 'total_relative_cases',\n",
       "       'vaccination_rate'],\n",
       "      dtype='object')"
      ]
     },
     "execution_count": 15,
     "metadata": {},
     "output_type": "execute_result"
    }
   ],
   "source": [
    "df_covid_info.columns"
   ]
  },
  {
   "cell_type": "code",
   "execution_count": null,
   "id": "7c6c3f2b",
   "metadata": {},
   "outputs": [],
   "source": []
  },
  {
   "cell_type": "code",
   "execution_count": 16,
   "id": "b767f4c7",
   "metadata": {},
   "outputs": [],
   "source": [
    "quick_plot(df_covid_info,\n",
    "           'date',\n",
    "           'vaccination_rate',\n",
    "            col_in='location',\n",
    "            title_in='Vaccination Ratio',\n",
    "            renderer='browser')"
   ]
  },
  {
   "cell_type": "code",
   "execution_count": null,
   "id": "aebcd1b4",
   "metadata": {},
   "outputs": [],
   "source": []
  }
 ],
 "metadata": {
  "kernelspec": {
   "display_name": "Python 3 (ipykernel)",
   "language": "python",
   "name": "python3"
  },
  "language_info": {
   "codemirror_mode": {
    "name": "ipython",
    "version": 3
   },
   "file_extension": ".py",
   "mimetype": "text/x-python",
   "name": "python",
   "nbconvert_exporter": "python",
   "pygments_lexer": "ipython3",
   "version": "3.9.12"
  }
 },
 "nbformat": 4,
 "nbformat_minor": 5
}
