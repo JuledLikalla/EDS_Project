{
 "cells": [
  {
   "cell_type": "markdown",
   "id": "0956d604",
   "metadata": {},
   "source": [
    "![CRISP_DM](../reports/figures/CRISP_DM.png)"
   ]
  },
  {
   "cell_type": "markdown",
   "id": "5e5f5392",
   "metadata": {},
   "source": [
    "# Business Understanding"
   ]
  },
  {
   "cell_type": "markdown",
   "id": "8e3df994",
   "metadata": {},
   "source": [
    "We would like to track Corona VIRUS spread across countries and with personal local information.\n",
    "The general information is not so relevant for me I would like to have a deep dive in local developement of the spread."
   ]
  },
  {
   "cell_type": "markdown",
   "id": "93045ee6",
   "metadata": {},
   "source": [
    "### Goals"
   ]
  },
  {
   "cell_type": "markdown",
   "id": "228b1501",
   "metadata": {},
   "source": [
    "* We would like to understand the data quality\n",
    "* Everything should be automated as much as possible:\n",
    "    How many clicks do we need to execute the full pipeline"
   ]
  },
  {
   "cell_type": "markdown",
   "id": "5dd0bba3",
   "metadata": {},
   "source": [
    "### Constrains:"
   ]
  },
  {
   "cell_type": "markdown",
   "id": "d88c0f50",
   "metadata": {},
   "source": [
    "* Each notebook should be left clean snd ready for full execution"
   ]
  },
  {
   "cell_type": "code",
   "execution_count": null,
   "id": "3a507c3c",
   "metadata": {},
   "outputs": [],
   "source": []
  }
 ],
 "metadata": {
  "kernelspec": {
   "display_name": "Python 3 (ipykernel)",
   "language": "python",
   "name": "python3"
  },
  "language_info": {
   "codemirror_mode": {
    "name": "ipython",
    "version": 3
   },
   "file_extension": ".py",
   "mimetype": "text/x-python",
   "name": "python",
   "nbconvert_exporter": "python",
   "pygments_lexer": "ipython3",
   "version": "3.9.12"
  }
 },
 "nbformat": 4,
 "nbformat_minor": 5
}
